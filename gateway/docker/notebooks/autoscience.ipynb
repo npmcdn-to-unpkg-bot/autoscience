{
 "cells": [
  {
   "cell_type": "code",
   "execution_count": 1,
   "metadata": {
    "collapsed": false
   },
   "outputs": [],
   "source": [
    "import matplotlib\n",
    "matplotlib.use('agg')"
   ]
  },
  {
   "cell_type": "code",
   "execution_count": 2,
   "metadata": {
    "collapsed": false
   },
   "outputs": [],
   "source": [
    "# imports\n",
    "import pandas as pd\n",
    "import numpy as np\n",
    "\n",
    "import re\n",
    "import json\n",
    "import yaml\n",
    "\n",
    "import os\n",
    "import copy\n",
    "\n",
    "from chardet.universaldetector import UniversalDetector"
   ]
  },
  {
   "cell_type": "code",
   "execution_count": 3,
   "metadata": {
    "collapsed": false
   },
   "outputs": [],
   "source": [
    "# hierarchical apply function on mixed dict/list struct\n",
    "def map_nested_struct_modify(ob, func):\n",
    "    if isinstance(ob,list):\n",
    "        for v in ob:\n",
    "            if isinstance(v,list) or isinstance(v,dict):\n",
    "                map_nested_struct_modify(v, func)\n",
    "            else:\n",
    "                v = func(v)    \n",
    "    elif isinstance(ob,dict):\n",
    "        for k, v in ob.items():\n",
    "            if isinstance(ob[k],list) or isinstance(ob[k],dict):\n",
    "                map_nested_struct_modify(v, func)\n",
    "            else:\n",
    "                ob[k] = func(v)\n",
    "    else:\n",
    "        ob = func(ob)"
   ]
  },
  {
   "cell_type": "code",
   "execution_count": 4,
   "metadata": {
    "collapsed": false
   },
   "outputs": [],
   "source": [
    "if os.environ.get('JUPYTER_GATEWAY'):\n",
    "    path='/srv/notebooks'\n",
    "else:\n",
    "    path='.'\n",
    "    \n",
    "datapath = \"{}/datasets\".format(path)\n",
    "\n",
    "datasets = [\n",
    "        {'id': '0', 'filename':'titanic.csv', 'desc':'Master of Life'},\n",
    "        {'id': '1', 'filename':'iris.csv',    'desc':'So many flowers'},\n",
    "        {'id': '2', 'filename':'pokemon.csv', 'desc':'Gotta catch \\'em all!'},\n",
    "        {'id': '3', 'filename':'boston.csv',  'desc':'Live and let live'}\n",
    "]\n",
    "\n",
    "df = pd.DataFrame()\n",
    "\n",
    "df_meta = {\n",
    "    'id'       : '',\n",
    "    'file'     : {},\n",
    "    'name'     : '',\n",
    "    'desc'     : '',\n",
    "    'vars'     : []\n",
    "}"
   ]
  },
  {
   "cell_type": "code",
   "execution_count": 5,
   "metadata": {
    "collapsed": true
   },
   "outputs": [],
   "source": [
    "REQUEST = json.dumps({\n",
    "    'path' : {},\n",
    "    'args' : {}\n",
    "})"
   ]
  },
  {
   "cell_type": "code",
   "execution_count": 6,
   "metadata": {
    "collapsed": true
   },
   "outputs": [],
   "source": [
    "def response_dict(d, content_type='application/json'):\n",
    "    if content_type == 'application/json':\n",
    "        print(json.dumps(d))\n",
    "    elif content_type == 'application/xml' or content_type == 'text/xml':\n",
    "        print(yaml.dump(d))\n",
    "\n",
    "def response_meta(status=200, content_type='application/json'):\n",
    "    print(json.dumps({\n",
    "        \"headers\" : { \"Content-Type\" : content_type},\n",
    "        \"status\" : status\n",
    "    }))"
   ]
  },
  {
   "cell_type": "code",
   "execution_count": 7,
   "metadata": {
    "collapsed": false
   },
   "outputs": [],
   "source": [
    "def uniquify(seq): \n",
    "    checked = dict()\n",
    "    uniq = []\n",
    "    for e in seq:\n",
    "        if e not in checked.keys():\n",
    "            if e:\n",
    "                checked[e]=0\n",
    "                uniq.append(e)\n",
    "            else:\n",
    "                checked[e]=1\n",
    "                uniq.append('_1')\n",
    "        else:\n",
    "            checked[e] += 1\n",
    "            uniq.append('{}_{}'.format(e,checked[e]))\n",
    "    return uniq\n",
    "\n",
    "def to_alphanum(s):\n",
    "    return re.sub(r'[^0-9A-Za-z._]+', '', s).lower()\n",
    "\n",
    "def prep_names(seq):\n",
    "    names = [ to_alphanum(x)  for x in seq]\n",
    "    return uniquify(names)\n",
    "\n",
    "def dtype_to_string(x):\n",
    "    return {\n",
    "        'b': 'bool',\n",
    "        'i': 'long',\n",
    "        'u': 'long',\n",
    "        'f': 'double',\n",
    "        'c': 'complex',\n",
    "        'O': 'object',\n",
    "        'S': 'char',\n",
    "        'a': 'char',\n",
    "        'U': 'string',\n",
    "        'V': 'raw'\n",
    "    }.get(x[1], 'unknown')\n",
    "\n",
    "def is_number(s):\n",
    "    try:\n",
    "        complex(s) # for int, long, float and complex\n",
    "    except ValueError:\n",
    "        return False\n",
    "    return True\n",
    "\n",
    "def is_float(s):\n",
    "    try:\n",
    "        float(s) # for int, long, float\n",
    "    except ValueError:\n",
    "        return False\n",
    "    return True\n",
    "\n",
    "def is_int(s):\n",
    "    try:\n",
    "        return float(s).is_integer() # for int, long, float\n",
    "    except ValueError:\n",
    "        return False\n",
    "\n",
    "def is_infinite(s):\n",
    "    try:\n",
    "        return np.isinf(float(s)) # for int, long, float\n",
    "    except ValueError:\n",
    "        return False\n",
    "\n",
    "def is_zero(s):\n",
    "    return not s\n",
    "\n",
    "def vector_purity(x):\n",
    "    for i in list(range(len(x))):\n",
    "        # hard compressor\n",
    "        x[i] = max(0, min(1, x[i]))\n",
    "    return max(x)*(1 - (sum(x)-1)/(len(x)-1))\n",
    "\n",
    "def get_typestats(sr):\n",
    "    infinite= sum(sr.apply(is_infinite))\n",
    "    numeric = sum(sr.apply(is_number))\n",
    "    integer = sum(sr.apply(is_int))\n",
    "    nan     = sum(sr.isnull())\n",
    "    zero    = sum(sr.apply(is_zero))\n",
    "    unique  = len(sr.unique())\n",
    "    \n",
    "    count   = len(sr)\n",
    "    valid   = count-nan\n",
    "    valid_ratio = valid/count\n",
    "\n",
    "    numeric = numeric - integer - nan\n",
    "    string = count - numeric - integer\n",
    "    \n",
    "    tpurity = vector_purity([integer/valid, numeric/valid, string/valid])\n",
    "\n",
    "    # log vs linear?\n",
    "    cat = False\n",
    "    if (unique/valid)<0.1 :\n",
    "        cat = True\n",
    "\n",
    "    t = 'string' \n",
    "    if (integer/valid)>0.5 :\n",
    "        t = 'integer'\n",
    "    elif (numeric/valid)>0.5 :\n",
    "        t = 'numeric'\n",
    "    \n",
    "    d = { 'infinite': infinite,\n",
    "          'numeric' : numeric,\n",
    "          'integer' : integer,\n",
    "          'nan'     : nan,\n",
    "          'zero'    : zero,\n",
    "          'string'  : string,\n",
    "          'unique'  : unique,\n",
    "          'valid'   : valid,\n",
    "          'quality' : valid_ratio*tpurity,\n",
    "          'cat'     : cat,\n",
    "          'tcoerce' : t,\n",
    "          'tpurity' : tpurity,\n",
    "          'type'    : dtype_to_string(sr.dtype.str)\n",
    "    }\n",
    "    \n",
    "    return d\n",
    "\n",
    "def numpy2py(ob):\n",
    "    return np.asscalar(ob) if isinstance(ob, np.generic) else ob\n",
    "\n",
    "def format_float(ob):\n",
    "    return float(format(ob,'.2f')) if isinstance(ob, float) else ob\n",
    "\n",
    "def numpy_tojson(ob):\n",
    "    map_nested_struct_modify(ob, numpy2py)\n",
    "    map_nested_struct_modify(ob, format_float)\n",
    "    return ob\n",
    "\n",
    "def sizeof_fmt(num, suffix='B'):\n",
    "    for unit in ['','K','M','G','T','P','E','Z']:\n",
    "        if abs(num) < 1024.0:\n",
    "            return \"%3.1f%s%s\" % (num, unit, suffix)\n",
    "        num /= 1024.0\n",
    "    return \"%.1f%s%s\" % (num, 'Yi', suffix)\n",
    "\n",
    "def detect_encoding(filename):\n",
    "    f = open(filename, 'rb')\n",
    "    detector = UniversalDetector()\n",
    "    for line in f:\n",
    "        detector.feed(line)\n",
    "        if detector.done: break\n",
    "    detector.close()\n",
    "    f.close()\n",
    "    return detector.result"
   ]
  },
  {
   "cell_type": "code",
   "execution_count": 8,
   "metadata": {
    "collapsed": false
   },
   "outputs": [],
   "source": [
    "# TEST\n",
    "#sr = pd.Series([1,0.0, '', '', np.inf, np.nan, 2.9, '0', '111', 'kkk'])\n",
    "#get_typestats(sr)"
   ]
  },
  {
   "cell_type": "code",
   "execution_count": 9,
   "metadata": {
    "collapsed": false
   },
   "outputs": [],
   "source": [
    "# help functions\n",
    "def rows_na_any(df):\n",
    "    na_df = pd.isnull(df)\n",
    "    d = na_df.apply(np.any, axis=0)\n",
    "    return len(d[d==True])\n",
    "\n",
    "def col_na_any(df):\n",
    "    na_df = pd.isnull(df)\n",
    "    d = na_df.apply(np.any, axis=1)\n",
    "    return len(d[d==True])"
   ]
  },
  {
   "cell_type": "code",
   "execution_count": 10,
   "metadata": {
    "collapsed": false
   },
   "outputs": [],
   "source": [
    "def load_dataset(id):\n",
    "    global datasets, df, df_meta\n",
    "\n",
    "    dataset = None\n",
    "    for item in datasets:\n",
    "        if id == item['id']:\n",
    "            dataset = item\n",
    "            break;\n",
    "            \n",
    "    if not dataset:\n",
    "        return False\n",
    "    \n",
    "    filename = dataset.get('filename', None)\n",
    "    \n",
    "    #check if it's already loaded\n",
    "    if id==df_meta['id']:\n",
    "        return True\n",
    "    \n",
    "    if filename:\n",
    "        filepath = \"{}/{}\".format(datapath,filename)\n",
    "        df = pd.read_csv(\n",
    "            filepath, \n",
    "            sep=None, \n",
    "            engine='python', \n",
    "            true_values=['True', 'true'], \n",
    "            false_values=['False','false']\n",
    "        )\n",
    "\n",
    "        #dataset id\n",
    "        df_meta['id']       = id\n",
    "        df_meta['desc']     = item.get('desc','')\n",
    "        df_meta['name']     = item.get('name',filename.split('.')[0].title())\n",
    "        df_meta['vars']     = [ {'id':str(i), 'alias' : k , 'name': v} for i,k,v in zip(list(range(len(df.columns))),prep_names(df.columns),df.columns) ]\n",
    "    \n",
    "        df_meta['file'] = {\n",
    "            'path'      : filepath,\n",
    "            'name'      : item['filename'],\n",
    "            'size'      : sizeof_fmt(os.path.getsize(filepath)),\n",
    "            'encoding'  : detect_encoding(filepath) \n",
    "        }\n",
    "        \n",
    "        #rename df columns\n",
    "        df.columns = prep_names(df.columns)\n",
    "        \n",
    "        return True\n",
    "    else:\n",
    "        df = pd.DataFrame()\n",
    "        df_meta['id']   = id\n",
    "        df_meta['file'] = {}\n",
    "        df_meta['name'] = ''\n",
    "        df_meta['desc'] = ''\n",
    "        df_meta['vars'] = []\n",
    "        \n",
    "        return False"
   ]
  },
  {
   "cell_type": "code",
   "execution_count": 11,
   "metadata": {
    "collapsed": false
   },
   "outputs": [],
   "source": [
    "# TEST\n",
    "#load_dataset('1')\n",
    "#df_meta"
   ]
  },
  {
   "cell_type": "code",
   "execution_count": 12,
   "metadata": {
    "collapsed": false
   },
   "outputs": [
    {
     "name": "stdout",
     "output_type": "stream",
     "text": [
      "[{\"id\": \"0\", \"desc\": \"Master of Life\", \"filename\": \"titanic.csv\"}, {\"id\": \"1\", \"desc\": \"So many flowers\", \"filename\": \"iris.csv\"}, {\"id\": \"2\", \"desc\": \"Gotta catch 'em all!\", \"filename\": \"pokemon.csv\"}, {\"id\": \"3\", \"desc\": \"Live and let live\", \"filename\": \"boston.csv\"}]\n"
     ]
    }
   ],
   "source": [
    "# GET /datasets\n",
    "\n",
    "response_dict(datasets, 'application/json')"
   ]
  },
  {
   "cell_type": "code",
   "execution_count": 13,
   "metadata": {
    "collapsed": false
   },
   "outputs": [
    {
     "name": "stdout",
     "output_type": "stream",
     "text": [
      "{\"status\": 200, \"headers\": {\"Content-Type\": \"application/json\"}}\n"
     ]
    }
   ],
   "source": [
    "# ResponseInfo GET /datasets\n",
    "\n",
    "response_meta()"
   ]
  },
  {
   "cell_type": "code",
   "execution_count": 14,
   "metadata": {
    "collapsed": false
   },
   "outputs": [
    {
     "name": "stdout",
     "output_type": "stream",
     "text": [
      "{\"id\": \"0\", \"vars\": [{\"id\": \"0\", \"name\": \"Unnamed: 0\", \"alias\": \"unnamed0\"}, {\"id\": \"1\", \"name\": \"Class\", \"alias\": \"class\"}, {\"id\": \"2\", \"name\": \"Sex\", \"alias\": \"sex\"}, {\"id\": \"3\", \"name\": \"Age\", \"alias\": \"age\"}, {\"id\": \"4\", \"name\": \"Survived\", \"alias\": \"survived\"}, {\"id\": \"5\", \"name\": \"Freq\", \"alias\": \"freq\"}], \"file\": {\"encoding\": {\"encoding\": \"ascii\", \"confidence\": 1.0}, \"size\": \"1.1KB\", \"path\": \"./datasets/titanic.csv\", \"name\": \"titanic.csv\"}, \"name\": \"Titanic\", \"desc\": \"Master of Life\"}\n"
     ]
    }
   ],
   "source": [
    "# GET /datasets/:id\n",
    "\n",
    "if not os.environ.get('JUPYTER_GATEWAY'):\n",
    "    REQUEST = json.dumps({'path': {'id':'0'}})\n",
    "\n",
    "request = json.loads(REQUEST)\n",
    "dataset_id = request['path'].get('id')\n",
    "\n",
    "success = load_dataset(dataset_id)\n",
    "\n",
    "if not success:\n",
    "    response_dict('', 'application/json')\n",
    "else:\n",
    "    response_dict(df_meta, 'application/json')"
   ]
  },
  {
   "cell_type": "code",
   "execution_count": 15,
   "metadata": {
    "collapsed": false
   },
   "outputs": [
    {
     "name": "stdout",
     "output_type": "stream",
     "text": [
      "{\"status\": 200, \"headers\": {\"Content-Type\": \"application/json\"}}\n"
     ]
    }
   ],
   "source": [
    "# ResponseInfo GET /datasets/:id\n",
    "\n",
    "status = 404 if not df_meta['id'] else 200\n",
    "response_meta(status)"
   ]
  },
  {
   "cell_type": "code",
   "execution_count": 16,
   "metadata": {
    "collapsed": false
   },
   "outputs": [
    {
     "data": {
      "text/plain": [
       "{'desc': 'Master of Life',\n",
       " 'file': {'encoding': {'confidence': 1.0, 'encoding': 'ascii'},\n",
       "  'name': 'titanic.csv',\n",
       "  'path': './datasets/titanic.csv',\n",
       "  'size': '1.1KB'},\n",
       " 'id': '0',\n",
       " 'name': 'Titanic',\n",
       " 'vars': [{'alias': 'unnamed0', 'id': '0', 'name': 'Unnamed: 0'},\n",
       "  {'alias': 'class', 'id': '1', 'name': 'Class'},\n",
       "  {'alias': 'sex', 'id': '2', 'name': 'Sex'},\n",
       "  {'alias': 'age', 'id': '3', 'name': 'Age'},\n",
       "  {'alias': 'survived', 'id': '4', 'name': 'Survived'},\n",
       "  {'alias': 'freq', 'id': '5', 'name': 'Freq'}]}"
      ]
     },
     "execution_count": 16,
     "metadata": {},
     "output_type": "execute_result"
    }
   ],
   "source": [
    "df_meta"
   ]
  },
  {
   "cell_type": "code",
   "execution_count": 17,
   "metadata": {
    "collapsed": false
   },
   "outputs": [
    {
     "name": "stdout",
     "output_type": "stream",
     "text": [
      "{\"ds\": {\"dims\": 2, \"rows\": 800, \"file\": {\"encoding\": {\"encoding\": \"utf-8\", \"confidence\": 0.94}, \"name\": \"pokemon.csv\", \"path\": \"./datasets/pokemon.csv\", \"size\": \"43.0KB\"}, \"name\": \"Pokemon\", \"desc\": \"Gotta catch 'em all!\", \"vars\": [{\"id\": \"0\", \"alias\": \"_1\", \"name\": \"#\"}, {\"id\": \"1\", \"alias\": \"name\", \"name\": \"Name\"}, {\"id\": \"2\", \"alias\": \"type1\", \"name\": \"Type 1\"}, {\"id\": \"3\", \"alias\": \"type2\", \"name\": \"Type 2\"}, {\"id\": \"4\", \"alias\": \"total\", \"name\": \"Total\"}, {\"id\": \"5\", \"alias\": \"hp\", \"name\": \"HP\"}, {\"id\": \"6\", \"alias\": \"attack\", \"name\": \"Attack\"}, {\"id\": \"7\", \"alias\": \"defense\", \"name\": \"Defense\"}, {\"id\": \"8\", \"alias\": \"sp.atk\", \"name\": \"Sp. Atk\"}, {\"id\": \"9\", \"alias\": \"sp.def\", \"name\": \"Sp. Def\"}, {\"id\": \"10\", \"alias\": \"speed\", \"name\": \"Speed\"}, {\"id\": \"11\", \"alias\": \"generation\", \"name\": \"Generation\"}, {\"id\": \"12\", \"alias\": \"legendary\", \"name\": \"Legendary\"}], \"id\": \"2\", \"na\": {\"rows\": 386, \"cols\": 1}, \"cols\": 13}, \"vars\": [{\"id\": \"0\", \"name\": \"#\", \"alias\": \"_1\", \"type\": {\"string\": 0, \"tcoerce\": \"integer\", \"integer\": 800, \"zero\": 0, \"numeric\": 0, \"cat\": false, \"valid\": 800, \"unique\": 721, \"infinite\": 0, \"nan\": 0, \"tpurity\": 1.0, \"quality\": 1.0, \"type\": \"long\"}, \"sample\": [\"349\", \"486\", \"261\", \"370\", \"683\", \"525\", \"1\", \"26\", \"471\", \"627\"]}, {\"id\": \"1\", \"name\": \"Name\", \"alias\": \"name\", \"type\": {\"string\": 800, \"tcoerce\": \"string\", \"integer\": 0, \"zero\": 0, \"numeric\": 0, \"cat\": false, \"valid\": 800, \"unique\": 800, \"infinite\": 0, \"nan\": 0, \"tpurity\": 1.0, \"quality\": 1.0, \"type\": \"object\"}, \"sample\": [\"Dunsparce\", \"Exeggutor\", \"Phione\", \"Archeops\", \"Pansage\", \"Amaura\", \"PidgeotMega Pidgeot\", \"Kricketune\", \"Koffing\", \"Roselia\"]}, {\"id\": \"2\", \"name\": \"Type 1\", \"alias\": \"type1\", \"type\": {\"string\": 800, \"tcoerce\": \"string\", \"integer\": 0, \"zero\": 0, \"numeric\": 0, \"cat\": true, \"valid\": 800, \"unique\": 18, \"infinite\": 0, \"nan\": 0, \"tpurity\": 1.0, \"quality\": 1.0, \"type\": \"object\"}, \"sample\": [\"Rock\", \"Normal\", \"Normal\", \"Dark\", \"Water\", \"Rock\", \"Dragon\", \"Fairy\", \"Grass\", \"Normal\"]}, {\"id\": \"3\", \"name\": \"Type 2\", \"alias\": \"type2\", \"type\": {\"string\": 800, \"tcoerce\": \"string\", \"integer\": 0, \"zero\": 0, \"numeric\": 0, \"cat\": true, \"valid\": 414, \"unique\": 19, \"infinite\": 0, \"nan\": 386, \"tpurity\": 1.0, \"quality\": 0.52, \"type\": \"object\"}, \"sample\": [\"Fighting\", \"nan\", \"Grass\", \"nan\", \"Steel\", \"nan\", \"nan\", \"nan\", \"nan\", \"Water\"]}, {\"id\": \"4\", \"name\": \"Total\", \"alias\": \"total\", \"type\": {\"string\": 0, \"tcoerce\": \"integer\", \"integer\": 800, \"zero\": 0, \"numeric\": 0, \"cat\": false, \"valid\": 800, \"unique\": 200, \"infinite\": 0, \"nan\": 0, \"tpurity\": 1.0, \"quality\": 1.0, \"type\": \"long\"}, \"sample\": [\"525\", \"600\", \"300\", \"295\", \"314\", \"485\", \"428\", \"309\", \"515\", \"510\"]}, {\"id\": \"5\", \"name\": \"HP\", \"alias\": \"hp\", \"type\": {\"string\": 0, \"tcoerce\": \"integer\", \"integer\": 800, \"zero\": 0, \"numeric\": 0, \"cat\": false, \"valid\": 800, \"unique\": 94, \"infinite\": 0, \"nan\": 0, \"tpurity\": 1.0, \"quality\": 1.0, \"type\": \"long\"}, \"sample\": [\"54\", \"50\", \"65\", \"40\", \"55\", \"70\", \"100\", \"80\", \"130\", \"45\"]}, {\"id\": \"6\", \"name\": \"Attack\", \"alias\": \"attack\", \"type\": {\"string\": 0, \"tcoerce\": \"integer\", \"integer\": 800, \"zero\": 0, \"numeric\": 0, \"cat\": false, \"valid\": 800, \"unique\": 111, \"infinite\": 0, \"nan\": 0, \"tpurity\": 1.0, \"quality\": 1.0, \"type\": \"long\"}, \"sample\": [\"64\", \"62\", \"80\", \"20\", \"100\", \"50\", \"115\", \"130\", \"45\", \"80\"]}, {\"id\": \"7\", \"name\": \"Defense\", \"alias\": \"defense\", \"type\": {\"string\": 0, \"tcoerce\": \"integer\", \"integer\": 800, \"zero\": 0, \"numeric\": 0, \"cat\": false, \"valid\": 800, \"unique\": 103, \"infinite\": 0, \"nan\": 0, \"tpurity\": 1.0, \"quality\": 1.0, \"type\": \"long\"}, \"sample\": [\"40\", \"122\", \"100\", \"48\", \"115\", \"55\", \"73\", \"70\", \"60\", \"115\"]}, {\"id\": \"8\", \"name\": \"Sp. Atk\", \"alias\": \"sp.atk\", \"type\": {\"string\": 0, \"tcoerce\": \"integer\", \"integer\": 800, \"zero\": 0, \"numeric\": 0, \"cat\": false, \"valid\": 800, \"unique\": 105, \"infinite\": 0, \"nan\": 0, \"tpurity\": 1.0, \"quality\": 1.0, \"type\": \"long\"}, \"sample\": [\"25\", \"50\", \"80\", \"110\", \"44\", \"55\", \"60\", \"55\", \"50\", \"75\"]}, {\"id\": \"9\", \"name\": \"Sp. Def\", \"alias\": \"sp.def\", \"type\": {\"string\": 0, \"tcoerce\": \"integer\", \"integer\": 800, \"zero\": 0, \"numeric\": 0, \"cat\": false, \"valid\": 800, \"unique\": 92, \"infinite\": 0, \"nan\": 0, \"tpurity\": 1.0, \"quality\": 1.0, \"type\": \"long\"}, \"sample\": [\"115\", \"55\", \"65\", \"115\", \"60\", \"107\", \"88\", \"60\", \"70\", \"42\"]}, {\"id\": \"10\", \"name\": \"Speed\", \"alias\": \"speed\", \"type\": {\"string\": 0, \"tcoerce\": \"integer\", \"integer\": 800, \"zero\": 0, \"numeric\": 0, \"cat\": false, \"valid\": 800, \"unique\": 108, \"infinite\": 0, \"nan\": 0, \"tpurity\": 1.0, \"quality\": 1.0, \"type\": \"long\"}, \"sample\": [\"98\", \"101\", \"70\", \"35\", \"126\", \"83\", \"78\", \"83\", \"45\", \"55\"]}, {\"id\": \"11\", \"name\": \"Generation\", \"alias\": \"generation\", \"type\": {\"string\": 0, \"tcoerce\": \"integer\", \"integer\": 800, \"zero\": 0, \"numeric\": 0, \"cat\": true, \"valid\": 800, \"unique\": 6, \"infinite\": 0, \"nan\": 0, \"tpurity\": 1.0, \"quality\": 1.0, \"type\": \"long\"}, \"sample\": [\"4\", \"4\", \"3\", \"5\", \"4\", \"5\", \"2\", \"2\", \"3\", \"1\"]}, {\"id\": \"12\", \"name\": \"Legendary\", \"alias\": \"legendary\", \"type\": {\"string\": 0, \"tcoerce\": \"integer\", \"integer\": 800, \"zero\": 735, \"numeric\": 0, \"cat\": true, \"valid\": 800, \"unique\": 2, \"infinite\": 0, \"nan\": 0, \"tpurity\": 1.0, \"quality\": 1.0, \"type\": \"bool\"}, \"sample\": [\"False\", \"False\", \"False\", \"False\", \"False\", \"False\", \"False\", \"False\", \"False\", \"False\"]}]}\n"
     ]
    }
   ],
   "source": [
    "# GET /datasets/:id/stats\n",
    "\n",
    "if not os.environ.get('JUPYTER_GATEWAY'):\n",
    "    REQUEST = json.dumps({'path': {'id':'2'}})\n",
    "\n",
    "request = json.loads(REQUEST)\n",
    "dataset_id = request['path'].get('id')\n",
    "\n",
    "success = load_dataset(dataset_id)\n",
    "\n",
    "if not success:\n",
    "    response_dict('', 'application/json')\n",
    "else:\n",
    "\n",
    "    #cell data\n",
    "    shape = df.shape\n",
    "\n",
    "    dv = []\n",
    "\n",
    "    #extract types\n",
    "    for item in df_meta['vars']:\n",
    "        sr = df[item['alias']]\n",
    "        dv.append(\n",
    "            {\n",
    "                'id'    : item['id'],\n",
    "                'alias' : item['alias'],\n",
    "                'name'  : item['name'],\n",
    "                'type'  : get_typestats(sr),\n",
    "                'sample': [str(x) for x in sr.sample(n=10).tolist()]\n",
    "            }\n",
    "        )\n",
    "    \n",
    "    ds = copy.deepcopy(df_meta)\n",
    "    ds.update({\n",
    "        'dims': len(shape),\n",
    "        'rows': shape[0],\n",
    "        'cols': shape[1],\n",
    "        'na': {\n",
    "            'cols': rows_na_any(df),\n",
    "            'rows': col_na_any(df)\n",
    "        }\n",
    "    })\n",
    "    \n",
    "    d = {\n",
    "        'ds'  : ds,\n",
    "        'vars': dv\n",
    "    }\n",
    "\n",
    "    #output\n",
    "    response_dict(numpy_tojson(d), 'application/json')"
   ]
  },
  {
   "cell_type": "code",
   "execution_count": 18,
   "metadata": {
    "collapsed": false
   },
   "outputs": [
    {
     "name": "stdout",
     "output_type": "stream",
     "text": [
      "{\"status\": 200, \"headers\": {\"Content-Type\": \"application/json\"}}\n"
     ]
    }
   ],
   "source": [
    "# ResponseInfo GET /datasets/:id/stats\n",
    "\n",
    "status = 404 if not df_meta['id'] else 200\n",
    "response_meta()"
   ]
  },
  {
   "cell_type": "code",
   "execution_count": 19,
   "metadata": {
    "collapsed": false
   },
   "outputs": [],
   "source": [
    "def describe(sr):\n",
    "    d = dict(sr.describe())\n",
    "    if '25%' in d.keys() : d['q25'] = d.pop('25%')\n",
    "    if '50%' in d.keys() : d['q50'] = d.pop('50%')\n",
    "    if '75%' in d.keys() : d['q75'] = d.pop('75%')\n",
    "    \n",
    "    if '50%' in d.keys() :\n",
    "        d['skew']  = sr.skew()\n",
    "        d['kurt]'] = sr.kurt()\n",
    "        d['mean]'] = sr.mean()\n",
    "    \n",
    "    return d\n",
    "\n",
    "def get_stats(sr, t, cat):\n",
    "    if cat:\n",
    "        sr = sr[sr.notnull()].apply(lambda x: str(x))\n",
    "        d = describe(sr)\n",
    "        d.update({\n",
    "            'categories': list(sr.unique()),\n",
    "            'histogram': [{'v': str(x), 'c': y } for x,y in sr.value_counts().items()]\n",
    "        })\n",
    "    elif t=='integer' or t=='numeric':\n",
    "        d = describe(sr)\n",
    "        \n",
    "        iqr = d['q75']-d['q25']\n",
    "        w_hi = sr[(sr>d['q75']) & (sr<d['q50']+1.5*iqr)].max()\n",
    "        w_lo = sr[(sr<d['q25']) & (sr>d['q50']-1.5*iqr)].min()\n",
    "\n",
    "        a_hi = sr[sr>w_hi].count()\n",
    "        a_lo = sr[sr<w_lo].count()\n",
    "\n",
    "        d.update({\n",
    "            'iqr'      : iqr,\n",
    "            'whiskers' : { 'hi':w_hi, 'lo':w_lo },\n",
    "            'anomalies': { 'hi':a_hi, 'lo':a_lo }\n",
    "        })\n",
    "        \n",
    "        d.update({\n",
    "            'histogram': [{'v': x, 'c': y } for x,y in sr.value_counts(bins=20, sort=False).items()]\n",
    "        })\n",
    "    else:\n",
    "        sr = sr.apply(lambda x: str(x))\n",
    "        d = describe(sr)\n",
    "    return d"
   ]
  },
  {
   "cell_type": "code",
   "execution_count": 20,
   "metadata": {
    "collapsed": false
   },
   "outputs": [
    {
     "name": "stdout",
     "output_type": "stream",
     "text": [
      "{\"ds\": {\"id\": \"2\", \"vars\": [{\"id\": \"0\", \"alias\": \"_1\", \"name\": \"#\"}, {\"id\": \"1\", \"alias\": \"name\", \"name\": \"Name\"}, {\"id\": \"2\", \"alias\": \"type1\", \"name\": \"Type 1\"}, {\"id\": \"3\", \"alias\": \"type2\", \"name\": \"Type 2\"}, {\"id\": \"4\", \"alias\": \"total\", \"name\": \"Total\"}, {\"id\": \"5\", \"alias\": \"hp\", \"name\": \"HP\"}, {\"id\": \"6\", \"alias\": \"attack\", \"name\": \"Attack\"}, {\"id\": \"7\", \"alias\": \"defense\", \"name\": \"Defense\"}, {\"id\": \"8\", \"alias\": \"sp.atk\", \"name\": \"Sp. Atk\"}, {\"id\": \"9\", \"alias\": \"sp.def\", \"name\": \"Sp. Def\"}, {\"id\": \"10\", \"alias\": \"speed\", \"name\": \"Speed\"}, {\"id\": \"11\", \"alias\": \"generation\", \"name\": \"Generation\"}, {\"id\": \"12\", \"alias\": \"legendary\", \"name\": \"Legendary\"}], \"file\": {\"encoding\": {\"encoding\": \"utf-8\", \"confidence\": 0.94}, \"name\": \"pokemon.csv\", \"path\": \"./datasets/pokemon.csv\", \"size\": \"43.0KB\"}, \"name\": \"Pokemon\", \"desc\": \"Gotta catch 'em all!\"}, \"var\": {\"stats\": {\"categories\": [\"Poison\", \"Flying\", \"Dragon\", \"Ground\", \"Fairy\", \"Grass\", \"Fighting\", \"Psychic\", \"Steel\", \"Ice\", \"Rock\", \"Dark\", \"Water\", \"Electric\", \"Fire\", \"Ghost\", \"Bug\", \"Normal\"], \"unique\": 18, \"count\": 414, \"histogram\": [{\"v\": \"Flying\", \"c\": 97}, {\"v\": \"Ground\", \"c\": 35}, {\"v\": \"Poison\", \"c\": 34}, {\"v\": \"Psychic\", \"c\": 33}, {\"v\": \"Fighting\", \"c\": 26}, {\"v\": \"Grass\", \"c\": 25}, {\"v\": \"Fairy\", \"c\": 23}, {\"v\": \"Steel\", \"c\": 22}, {\"v\": \"Dark\", \"c\": 20}, {\"v\": \"Dragon\", \"c\": 18}, {\"v\": \"Ghost\", \"c\": 14}, {\"v\": \"Ice\", \"c\": 14}, {\"v\": \"Water\", \"c\": 14}, {\"v\": \"Rock\", \"c\": 14}, {\"v\": \"Fire\", \"c\": 12}, {\"v\": \"Electric\", \"c\": 6}, {\"v\": \"Normal\", \"c\": 4}, {\"v\": \"Bug\", \"c\": 3}], \"top\": \"Flying\", \"freq\": 97}, \"alias\": \"type2\", \"type\": {\"string\": 800, \"tcoerce\": \"string\", \"integer\": 0, \"zero\": 0, \"numeric\": 0, \"cat\": true, \"valid\": 414, \"unique\": 19, \"infinite\": 0, \"nan\": 386, \"tpurity\": 1.0, \"quality\": 0.52, \"type\": \"object\"}, \"id\": \"3\", \"name\": \"Type 2\", \"sample\": [\"Dark\", \"nan\", \"nan\", \"Flying\", \"Ground\", \"Dark\", \"Psychic\", \"Steel\", \"nan\", \"nan\", \"Ground\", \"nan\", \"Grass\", \"nan\", \"nan\", \"Steel\", \"Psychic\", \"nan\", \"nan\", \"nan\", \"nan\", \"Psychic\", \"nan\", \"Dark\", \"nan\"]}, \"nav\": {\"next\": 4, \"prev\": 2}}\n"
     ]
    }
   ],
   "source": [
    "# GET /datasets/:id/variables/:vid\n",
    "\n",
    "if not os.environ.get('JUPYTER_GATEWAY'):\n",
    "    REQUEST = json.dumps({'path': {'id':'2', 'vid':'3'}})\n",
    "\n",
    "request = json.loads(REQUEST)\n",
    "id = request['path'].get('id')\n",
    "vid = request['path'].get('vid')\n",
    "\n",
    "success = load_dataset(id)\n",
    "\n",
    "if not success:\n",
    "    response_dict('', 'application/json')\n",
    "else:\n",
    "\n",
    "    dv = {\n",
    "        'id':vid\n",
    "    }\n",
    "\n",
    "    #extract types\n",
    "    for item in df_meta['vars']:\n",
    "        if vid == item['id']:\n",
    "            sr = df[item['alias']]\n",
    "            vardet = get_typestats(sr)\n",
    "            dv.update(\n",
    "                {\n",
    "                    'id'    : item['id'],\n",
    "                    'alias' : item['alias'],\n",
    "                    'name'  : item['name'],\n",
    "                    'type'  : vardet,\n",
    "                    'sample': [str(x) for x in sr.sample(n=25).tolist()],\n",
    "                    'stats' : get_stats(sr, vardet['tcoerce'], vardet['cat'])\n",
    "                }\n",
    "            )\n",
    "            break\n",
    "    \n",
    "    id_num = int(float(vid))\n",
    "    nav_prev = id_num-1 if 0 <= (id_num-1) else None\n",
    "    nav_next = id_num+1 if (id_num+1)< len(df_meta['vars']) else None\n",
    "    \n",
    "    \n",
    "    ds = copy.deepcopy(df_meta)\n",
    "    \n",
    "    d = {\n",
    "        'ds'  : ds,\n",
    "        'var': dv,\n",
    "        'nav': {\n",
    "            'prev':nav_prev,\n",
    "            'next':nav_next\n",
    "        }\n",
    "    }\n",
    "\n",
    "    #output\n",
    "    response_dict(numpy_tojson(d), 'application/json')"
   ]
  },
  {
   "cell_type": "code",
   "execution_count": 21,
   "metadata": {
    "collapsed": false
   },
   "outputs": [
    {
     "name": "stdout",
     "output_type": "stream",
     "text": [
      "{\"status\": 200, \"headers\": {\"Content-Type\": \"application/json\"}}\n"
     ]
    }
   ],
   "source": [
    "# ResponseInfo GET /datasets/:id/variables/:vid\n",
    "\n",
    "response_meta()"
   ]
  },
  {
   "cell_type": "code",
   "execution_count": 23,
   "metadata": {
    "collapsed": false
   },
   "outputs": [],
   "source": [
    "# GET /test\n",
    "import seaborn as sns\n",
    "import sys\n",
    "\n",
    "d = get_stats(df['type2'], 'string', True)['histogram']\n",
    "dd = pd.DataFrame(d)\n",
    "sns.set()\n",
    "s = sns.barplot(x='v', y='c', data=dd)\n",
    "#s.figure.savefig(sys.stdout)"
   ]
  },
  {
   "cell_type": "code",
   "execution_count": null,
   "metadata": {
    "collapsed": true
   },
   "outputs": [],
   "source": [
    "# ResponseInfo GET /test\n",
    "\n",
    "response_meta(200, 'image/png')"
   ]
  }
 ],
 "metadata": {
  "kernelspec": {
   "display_name": "Python 3",
   "language": "python",
   "name": "python3"
  },
  "language_info": {
   "codemirror_mode": {
    "name": "ipython",
    "version": 3
   },
   "file_extension": ".py",
   "mimetype": "text/x-python",
   "name": "python",
   "nbconvert_exporter": "python",
   "pygments_lexer": "ipython3",
   "version": "3.5.1"
  }
 },
 "nbformat": 4,
 "nbformat_minor": 0
}
