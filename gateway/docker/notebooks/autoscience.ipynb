{
 "cells": [
  {
   "cell_type": "code",
   "execution_count": 2,
   "metadata": {
    "collapsed": true
   },
   "outputs": [],
   "source": [
    "%matplotlib inline"
   ]
  },
  {
   "cell_type": "code",
   "execution_count": 3,
   "metadata": {
    "collapsed": false
   },
   "outputs": [],
   "source": [
    "# imports\n",
    "import pandas as pd\n",
    "import numpy as np\n",
    "\n",
    "import re\n",
    "import json\n",
    "import yaml\n"
   ]
  },
  {
   "cell_type": "code",
   "execution_count": 6,
   "metadata": {
    "collapsed": true
   },
   "outputs": [],
   "source": [
    "server='/srv/notebooks/'\n",
    "#server=''"
   ]
  },
  {
   "cell_type": "code",
   "execution_count": 14,
   "metadata": {
    "collapsed": true
   },
   "outputs": [],
   "source": [
    "def response_dict(d, content_type):\n",
    "    if content_type == 'application/json':\n",
    "        print(json.dumps(d))\n",
    "    elif content_type == 'application/xml' or content_type == 'text/xml':\n",
    "        print(yaml.dump(d))\n",
    "\n",
    "def response_meta(status=200, content_type='application/json'):\n",
    "    print(json.dumps({\n",
    "        \"headers\" : { \"Content-Type\" : content_type},\n",
    "        \"status\" : status\n",
    "    }))"
   ]
  },
  {
   "cell_type": "code",
   "execution_count": 15,
   "metadata": {
    "collapsed": false
   },
   "outputs": [],
   "source": [
    "df = pd.read_csv(server+'pokemon.csv', sep=None, engine='python', true_values=['True'], false_values=['False'])"
   ]
  },
  {
   "cell_type": "code",
   "execution_count": 16,
   "metadata": {
    "collapsed": false
   },
   "outputs": [
    {
     "data": {
      "text/html": [
       "<div>\n",
       "<table border=\"1\" class=\"dataframe\">\n",
       "  <thead>\n",
       "    <tr style=\"text-align: right;\">\n",
       "      <th></th>\n",
       "      <th>#</th>\n",
       "      <th>Name</th>\n",
       "      <th>Type 1</th>\n",
       "      <th>Type 2</th>\n",
       "      <th>Total</th>\n",
       "      <th>HP</th>\n",
       "      <th>Attack</th>\n",
       "      <th>Defense</th>\n",
       "      <th>Sp. Atk</th>\n",
       "      <th>Sp. Def</th>\n",
       "      <th>Speed</th>\n",
       "      <th>Generation</th>\n",
       "      <th>Legendary</th>\n",
       "    </tr>\n",
       "  </thead>\n",
       "  <tbody>\n",
       "    <tr>\n",
       "      <th>0</th>\n",
       "      <td>1</td>\n",
       "      <td>Bulbasaur</td>\n",
       "      <td>Grass</td>\n",
       "      <td>Poison</td>\n",
       "      <td>318</td>\n",
       "      <td>45</td>\n",
       "      <td>49</td>\n",
       "      <td>49</td>\n",
       "      <td>65</td>\n",
       "      <td>65</td>\n",
       "      <td>45</td>\n",
       "      <td>1</td>\n",
       "      <td>False</td>\n",
       "    </tr>\n",
       "    <tr>\n",
       "      <th>1</th>\n",
       "      <td>2</td>\n",
       "      <td>Ivysaur</td>\n",
       "      <td>Grass</td>\n",
       "      <td>Poison</td>\n",
       "      <td>405</td>\n",
       "      <td>60</td>\n",
       "      <td>62</td>\n",
       "      <td>63</td>\n",
       "      <td>80</td>\n",
       "      <td>80</td>\n",
       "      <td>60</td>\n",
       "      <td>1</td>\n",
       "      <td>False</td>\n",
       "    </tr>\n",
       "    <tr>\n",
       "      <th>2</th>\n",
       "      <td>3</td>\n",
       "      <td>Venusaur</td>\n",
       "      <td>Grass</td>\n",
       "      <td>Poison</td>\n",
       "      <td>525</td>\n",
       "      <td>80</td>\n",
       "      <td>82</td>\n",
       "      <td>83</td>\n",
       "      <td>100</td>\n",
       "      <td>100</td>\n",
       "      <td>80</td>\n",
       "      <td>1</td>\n",
       "      <td>False</td>\n",
       "    </tr>\n",
       "    <tr>\n",
       "      <th>3</th>\n",
       "      <td>3</td>\n",
       "      <td>VenusaurMega Venusaur</td>\n",
       "      <td>Grass</td>\n",
       "      <td>Poison</td>\n",
       "      <td>625</td>\n",
       "      <td>80</td>\n",
       "      <td>100</td>\n",
       "      <td>123</td>\n",
       "      <td>122</td>\n",
       "      <td>120</td>\n",
       "      <td>80</td>\n",
       "      <td>1</td>\n",
       "      <td>False</td>\n",
       "    </tr>\n",
       "    <tr>\n",
       "      <th>4</th>\n",
       "      <td>4</td>\n",
       "      <td>Charmander</td>\n",
       "      <td>Fire</td>\n",
       "      <td>NaN</td>\n",
       "      <td>309</td>\n",
       "      <td>39</td>\n",
       "      <td>52</td>\n",
       "      <td>43</td>\n",
       "      <td>60</td>\n",
       "      <td>50</td>\n",
       "      <td>65</td>\n",
       "      <td>1</td>\n",
       "      <td>False</td>\n",
       "    </tr>\n",
       "  </tbody>\n",
       "</table>\n",
       "</div>"
      ],
      "text/plain": [
       "   #                   Name Type 1  Type 2  Total  HP  Attack  Defense  \\\n",
       "0  1              Bulbasaur  Grass  Poison    318  45      49       49   \n",
       "1  2                Ivysaur  Grass  Poison    405  60      62       63   \n",
       "2  3               Venusaur  Grass  Poison    525  80      82       83   \n",
       "3  3  VenusaurMega Venusaur  Grass  Poison    625  80     100      123   \n",
       "4  4             Charmander   Fire     NaN    309  39      52       43   \n",
       "\n",
       "   Sp. Atk  Sp. Def  Speed  Generation Legendary  \n",
       "0       65       65     45           1     False  \n",
       "1       80       80     60           1     False  \n",
       "2      100      100     80           1     False  \n",
       "3      122      120     80           1     False  \n",
       "4       60       50     65           1     False  "
      ]
     },
     "execution_count": 16,
     "metadata": {},
     "output_type": "execute_result"
    }
   ],
   "source": [
    "df.head()"
   ]
  },
  {
   "cell_type": "code",
   "execution_count": 17,
   "metadata": {
    "collapsed": false
   },
   "outputs": [],
   "source": [
    "def uniquify(seq): \n",
    "    checked = dict()\n",
    "    uniq = []\n",
    "    for e in seq:\n",
    "        if e not in checked.keys():\n",
    "            if e:\n",
    "                checked[e]=0\n",
    "                uniq.append(e)\n",
    "            else:\n",
    "                checked[e]=1\n",
    "                uniq.append('_1')\n",
    "        else:\n",
    "            checked[e] += 1\n",
    "            uniq.append('{}_{}'.format(e,checked[e]))\n",
    "    return uniq\n",
    "\n",
    "def to_alphanum(s):\n",
    "    return re.sub(r'\\W+', '', s).lower()\n",
    "\n",
    "def prep_names(seq):\n",
    "    names = [ to_alphanum(x)  for x in seq]\n",
    "    return uniquify(names)\n",
    "\n",
    "def dtype_to_string(x):\n",
    "    t = df[v].dtype.str\n",
    "    return {\n",
    "        'b': 'bool',\n",
    "        'i': 'long',\n",
    "        'u': 'long',\n",
    "        'f': 'double',\n",
    "        'c': 'complex',\n",
    "        'O': 'object',\n",
    "        'S': 'char',\n",
    "        'a': 'char',\n",
    "        'U': 'string',\n",
    "        'V': 'raw'\n",
    "    }.get(x[1], 'unknown')\n",
    "\n",
    "def is_finitenumber(s):\n",
    "    try:\n",
    "        complex(s) # for int, long, float and complex\n",
    "    except ValueError:\n",
    "        return False\n",
    "    return np.isfinite(s)"
   ]
  },
  {
   "cell_type": "code",
   "execution_count": 18,
   "metadata": {
    "collapsed": false
   },
   "outputs": [],
   "source": [
    "#metadata: variables\n",
    "variables = dict(zip(prep_names(df.columns),[ {'name': x} for x in df.columns]))\n",
    "variables\n",
    "\n",
    "#rename columns\n",
    "df.columns = prep_names(df.columns)\n",
    "\n",
    "#extract types\n",
    "for v in variables:\n",
    "    t = dtype_to_string(df[v].dtype.str)\n",
    "    variables[v]['type'] = t\n",
    "    variables[v]['sample'] = [x.tolist() if is_finitenumber(x) else str(x) for x in df[v].sample(n=10).tolist()]\n"
   ]
  },
  {
   "cell_type": "code",
   "execution_count": 19,
   "metadata": {
    "collapsed": false
   },
   "outputs": [],
   "source": [
    "#cell data\n",
    "shape = df.shape\n",
    "\n",
    "# help functions\n",
    "def rows_na_any(df):\n",
    "    na_df = pd.isnull(df)\n",
    "    d = na_df.apply(np.any, axis=0)\n",
    "    return len(d[d==True])\n",
    "\n",
    "def col_na_any(df):\n",
    "    na_df = pd.isnull(df)\n",
    "    d = na_df.apply(np.any, axis=1)\n",
    "    return len(d[d==True])\n",
    "\n",
    "dataset_dict = {\n",
    "    'dims': len(shape),\n",
    "    'rows': shape[0],\n",
    "    'cols': shape[1],\n",
    "    'na': {\n",
    "        'cols': rows_na_any(df),\n",
    "        'rows': col_na_any(df)\n",
    "    },\n",
    "    'variables': variables\n",
    "}\n",
    "\n",
    "# discard cell data\n",
    "del shape"
   ]
  },
  {
   "cell_type": "code",
   "execution_count": 20,
   "metadata": {
    "collapsed": false
   },
   "outputs": [
    {
     "name": "stdout",
     "output_type": "stream",
     "text": [
      "{\"dims\": 2, \"na\": {\"rows\": 386, \"cols\": 1}, \"variables\": {\"type2\": {\"sample\": [\"nan\", \"nan\", \"nan\", \"nan\", \"Ghost\", \"nan\", \"Flying\", \"Water\", \"Ghost\", \"nan\"], \"type\": \"object\", \"name\": \"Type 2\"}, \"type1\": {\"sample\": [\"Psychic\", \"Dragon\", \"Grass\", \"Normal\", \"Normal\", \"Water\", \"Normal\", \"Bug\", \"Ice\", \"Ghost\"], \"type\": \"object\", \"name\": \"Type 1\"}, \"attack\": {\"sample\": [84, 70, 130, 50, 135, 73, 60, 110, 120, 95], \"type\": \"long\", \"name\": \"Attack\"}, \"total\": {\"sample\": [309, 440, 480, 288, 680, 520, 480, 480, 495, 328], \"type\": \"long\", \"name\": \"Total\"}, \"_1\": {\"sample\": [431, 36, 175, 145, 28, 637, 199, 407, 421, 397], \"type\": \"long\", \"name\": \"#\"}, \"legendary\": {\"sample\": [false, false, false, false, false, false, true, false, false, false], \"type\": \"bool\", \"name\": \"Legendary\"}, \"hp\": {\"sample\": [43, 60, 20, 90, 50, 170, 85, 85, 60, 50], \"type\": \"long\", \"name\": \"HP\"}, \"speed\": {\"sample\": [84, 65, 95, 44, 105, 85, 40, 70, 85, 50], \"type\": \"long\", \"name\": \"Speed\"}, \"name\": {\"sample\": [\"CharizardMega Charizard X\", \"Spewpa\", \"Heatran\", \"Oddish\", \"Slowpoke\", \"Abomasnow\", \"Kingdra\", \"Nidoran\\u2642\", \"Gulpin\", \"Solrock\"], \"type\": \"object\", \"name\": \"Name\"}, \"spatk\": {\"sample\": [55, 32, 72, 55, 60, 100, 55, 65, 45, 114], \"type\": \"long\", \"name\": \"Sp. Atk\"}, \"generation\": {\"sample\": [1, 5, 1, 3, 5, 6, 6, 3, 4, 1], \"type\": \"long\", \"name\": \"Generation\"}, \"spdef\": {\"sample\": [100, 55, 154, 45, 72, 40, 150, 60, 35, 85], \"type\": \"long\", \"name\": \"Sp. Def\"}, \"defense\": {\"sample\": [35, 130, 50, 34, 100, 37, 85, 70, 115, 50], \"type\": \"long\", \"name\": \"Defense\"}}, \"cols\": 13, \"rows\": 800}\n"
     ]
    }
   ],
   "source": [
    "# GET /datasets/:id\n",
    "response_dict(dataset_dict, 'application/json')"
   ]
  },
  {
   "cell_type": "code",
   "execution_count": 21,
   "metadata": {
    "collapsed": false
   },
   "outputs": [
    {
     "name": "stdout",
     "output_type": "stream",
     "text": [
      "{\"status\": 200, \"headers\": {\"Content-Type\": \"application/json\"}}\n"
     ]
    }
   ],
   "source": [
    "# ResponseInfo GET /datasets/:id\n",
    "response_meta()"
   ]
  },
  {
   "cell_type": "code",
   "execution_count": null,
   "metadata": {
    "collapsed": true
   },
   "outputs": [],
   "source": []
  }
 ],
 "metadata": {
  "kernelspec": {
   "display_name": "Python 3",
   "language": "python",
   "name": "python3"
  },
  "language_info": {
   "codemirror_mode": {
    "name": "ipython",
    "version": 3
   },
   "file_extension": ".py",
   "mimetype": "text/x-python",
   "name": "python",
   "nbconvert_exporter": "python",
   "pygments_lexer": "ipython3",
   "version": "3.5.1"
  }
 },
 "nbformat": 4,
 "nbformat_minor": 0
}
